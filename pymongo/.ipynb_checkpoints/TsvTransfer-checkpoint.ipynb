{
 "cells": [
  {
   "cell_type": "code",
   "execution_count": 7,
   "metadata": {},
   "outputs": [],
   "source": [
    "import json\n",
    "import csv"
   ]
  },
  {
   "cell_type": "code",
   "execution_count": 28,
   "metadata": {},
   "outputs": [],
   "source": [
    "def transTags(path):\n",
    "    # create json file\n",
    "    jsonfile = open('/Users/chaizhizhi/Desktop/5338_data/json_data/Tags.json', 'w')\n",
    "    # variable to store components\n",
    "    bucket = []\n",
    "    with open(path) as tsvfile:\n",
    "        tsvfile = csv.reader(tsvfile, delimiter='\\t')\n",
    "        next(tsvfile)\n",
    "        for row in tsvfile:\n",
    "            # row[0] = Id\n",
    "            # row[1] = Tagname\n",
    "            # row[2] = Count\n",
    "            # row[3] = ExcerptPostId\n",
    "            # row[4] = WikiPostId\n",
    "            # 拼装语句\n",
    "            temp = {\n",
    "                    'Id': row[0], \n",
    "                    'Tagname': row[1], \n",
    "#                     'Count': row[2],\n",
    "#                     'ExcerptPostId': row[3], \n",
    "#                     'WikiPostId': row[4] \n",
    "            }\n",
    "            bucket.append(temp)\n",
    "    # write\n",
    "    json.dump(bucket, jsonfile, sort_keys=False, indent=4, separators=(',', ': '))\n",
    "\n",
    "def transUsers(path):\n",
    "    # create json file\n",
    "    jsonfile = open('/Users/chaizhizhi/Desktop/5338_data/json_data/Users.json', 'w')\n",
    "    # variable to store components\n",
    "    bucket = []\n",
    "    with open(path) as tsvfile:\n",
    "        tsvfile = csv.reader(tsvfile, delimiter='\\t')\n",
    "        next(tsvfile)\n",
    "        for row in tsvfile:\n",
    "            # 拼装语句\n",
    "            temp = {\n",
    "                    'Id': row[0], \n",
    "#                     'Reputation': row[1], \n",
    "                    'CreationDate': row[2], 'DisplayName': row[3],\n",
    "#                     'LastAccessDate': row[4], 'Location': row[5], \n",
    "#                     'Views': row[6], \n",
    "                    'UpVotes': row[7],\n",
    "                    'DownVotes': row[8], \n",
    "#                 'AccountId': row[9]\n",
    "            }\n",
    "            bucket.append(temp)\n",
    "    # write\n",
    "    json.dump(bucket, jsonfile, sort_keys=False, indent=4, separators=(',', ': '))\n",
    "\n",
    "def transVotes(path):\n",
    "    # create json file\n",
    "    jsonfile = open('/Users/chaizhizhi/Desktop/5338_data/json_data/Votes.json', 'w')\n",
    "    # variable to store components\n",
    "    bucket = []\n",
    "    with open(path) as tsvfile:\n",
    "        tsvfile = csv.reader(tsvfile, delimiter='\\t')\n",
    "        next(tsvfile)\n",
    "        for row in tsvfile:\n",
    "            # 拼装语句\n",
    "            temp = {'Id': row[0], 'PostId': row[1], \n",
    "                        'VoteTypeId': row[2], 'CreationDate': row[3],\n",
    "#                         'UserId': row[4], 'BountyAmount': row[5]\n",
    "                   }\n",
    "            bucket.append(temp)\n",
    "    # write\n",
    "    json.dump(bucket, jsonfile, sort_keys=False, indent=4, separators=(',', ': '))\n",
    "\n"
   ]
  },
  {
   "cell_type": "code",
   "execution_count": null,
   "metadata": {},
   "outputs": [],
   "source": [
    "# transUsers('/Users/chaizhizhi/Desktop/5338_data/Users.tsv')\n",
    "# transVotes('/Users/chaizhizhi/Desktop/5338_data/Votes.tsv')\n",
    "transTags('/Users/chaizhizhi/Desktop/5338_data/Tags.tsv')"
   ]
  },
  {
   "cell_type": "code",
   "execution_count": 30,
   "metadata": {},
   "outputs": [],
   "source": [
    "def transPosts(path):\n",
    "    # create json file\n",
    "    jsonfile = open('/Users/chaizhizhi/Desktop/5338_data/json_data/Posts_New.json', 'w')\n",
    "    # variable to store components\n",
    "    bucket = []\n",
    "    with open(path) as tsvfile:\n",
    "        tsvfile = csv.reader(tsvfile, delimiter='\\t')\n",
    "        next(tsvfile)\n",
    "        for row in tsvfile:\n",
    "            temp = {\n",
    "                    'Id': row[0], \n",
    "                    'PostTypeId': row[1], \n",
    "                    'CreationDate': row[3],\n",
    "                    'ViewCount': row[5], \n",
    "                    'OwnerUserId': row[6], \n",
    "                    'Title': row[7], \n",
    "                    'Tags': row[8].split(','),\n",
    "                    'ParentId': row[12]\n",
    "                     }\n",
    "            bucket.append(temp)\n",
    "    for i in bucket:\n",
    "        if i['PostTypeId'] == '2':\n",
    "            for j in bucket:\n",
    "                if i['ParentId'] == j['Id']:\n",
    "                    i['Tags'] = j['Tags']  \n",
    "    #write\n",
    "    json.dump(bucket, jsonfile, sort_keys=False, indent=4, separators=(',', ': '))\n",
    "    \n",
    "transPosts('/Users/chaizhizhi/Desktop/5338_data/Posts.tsv')\n",
    "\n",
    "# 0\n",
    "# Id\tPostTypeId\tAcceptedAnswerId\t \n",
    "#3-6\n",
    "# CreationDate\tScore\tViewCount\tOwnerUserId\t\n",
    "#7-9\n",
    "# Title \tTags\tAnswerCount\t \n",
    "#10-12\n",
    "# CommentCount\t  FavoriteCount\tParentId"
   ]
  },
  {
   "cell_type": "code",
   "execution_count": 31,
   "metadata": {},
   "outputs": [],
   "source": [
    "\n"
   ]
  },
  {
   "cell_type": "code",
   "execution_count": 3,
   "metadata": {},
   "outputs": [
    {
     "name": "stdout",
     "output_type": "stream",
     "text": [
      "5\n"
     ]
    }
   ],
   "source": []
  },
  {
   "cell_type": "code",
   "execution_count": null,
   "metadata": {},
   "outputs": [],
   "source": []
  }
 ],
 "metadata": {
  "kernelspec": {
   "display_name": "Python 3",
   "language": "python",
   "name": "python3"
  },
  "language_info": {
   "codemirror_mode": {
    "name": "ipython",
    "version": 3
   },
   "file_extension": ".py",
   "mimetype": "text/x-python",
   "name": "python",
   "nbconvert_exporter": "python",
   "pygments_lexer": "ipython3",
   "version": "3.6.5"
  }
 },
 "nbformat": 4,
 "nbformat_minor": 2
}
